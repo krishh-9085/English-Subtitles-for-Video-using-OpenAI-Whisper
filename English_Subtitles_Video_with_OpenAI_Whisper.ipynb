{
  "cells": [
    {
      "cell_type": "code",
      "execution_count": null,
      "metadata": {
        "collapsed": true,
        "id": "uPn8olFyZCZc"
      },
      "outputs": [],
      "source": [
        "!pip install openai-whisper==20230117"
      ]
    },
    {
      "cell_type": "code",
      "execution_count": 2,
      "metadata": {
        "collapsed": true,
        "id": "Q3MAiV-cZtYw"
      },
      "outputs": [],
      "source": [
        "! pip install gradio -q"
      ]
    },
    {
      "cell_type": "code",
      "execution_count": 3,
      "metadata": {
        "id": "mIgABoqUZ7cj"
      },
      "outputs": [
        {
          "name": "stderr",
          "output_type": "stream",
          "text": [
            "c:\\Users\\KRISH\\AppData\\Local\\Programs\\Python\\Python312\\Lib\\site-packages\\tqdm\\auto.py:21: TqdmWarning: IProgress not found. Please update jupyter and ipywidgets. See https://ipywidgets.readthedocs.io/en/stable/user_install.html\n",
            "  from .autonotebook import tqdm as notebook_tqdm\n"
          ]
        }
      ],
      "source": [
        "import gradio as gr\n",
        "import os\n",
        "import sys\n",
        "import subprocess"
      ]
    },
    {
      "cell_type": "code",
      "execution_count": 4,
      "metadata": {
        "id": "yj-xL6aLaajJ"
      },
      "outputs": [
        {
          "name": "stderr",
          "output_type": "stream",
          "text": [
            "c:\\Users\\KRISH\\AppData\\Local\\Programs\\Python\\Python312\\Lib\\site-packages\\whisper\\__init__.py:110: FutureWarning: You are using `torch.load` with `weights_only=False` (the current default value), which uses the default pickle module implicitly. It is possible to construct malicious pickle data which will execute arbitrary code during unpickling (See https://github.com/pytorch/pytorch/blob/main/SECURITY.md#untrusted-models for more details). In a future release, the default value for `weights_only` will be flipped to `True`. This limits the functions that could be executed during unpickling. Arbitrary objects will no longer be allowed to be loaded via this mode unless they are explicitly allowlisted by the user via `torch.serialization.add_safe_globals`. We recommend you start setting `weights_only=True` for any use case where you don't have full control of the loaded file. Please open an issue on GitHub for any issues related to this experimental feature.\n",
            "  checkpoint = torch.load(fp, map_location=device)\n"
          ]
        }
      ],
      "source": [
        "import whisper\n",
        "\n",
        "model = whisper.load_model(\"medium\")"
      ]
    },
    {
      "cell_type": "code",
      "execution_count": 5,
      "metadata": {
        "id": "qZlaoT13dOvb"
      },
      "outputs": [],
      "source": [
        "def video2mp3(video_file, output_ext=\"mp3\"):\n",
        "    filename, ext = os.path.splitext(video_file)\n",
        "    subprocess.call([\"ffmpeg\", \"-y\", \"-i\", video_file, f\"{filename}.{output_ext}\"],\n",
        "                    stdout=subprocess.DEVNULL,\n",
        "                    stderr=subprocess.STDOUT)\n",
        "    return f\"{filename}.{output_ext}\"\n"
      ]
    },
    {
      "cell_type": "code",
      "execution_count": null,
      "metadata": {
        "id": "MBO3fmj2sD_P"
      },
      "outputs": [],
      "source": [
        "#input_video = 'this+invention+makes+getting+out+of+bed+so+much+easier..mp4'\n",
        "\n",
        "input_video = '/content/tyty.mp4'"
      ]
    },
    {
      "cell_type": "code",
      "execution_count": null,
      "metadata": {
        "id": "pPrLtIZ7eqze"
      },
      "outputs": [],
      "source": [
        "audio_file = video2mp3(input_video)"
      ]
    },
    {
      "cell_type": "code",
      "execution_count": null,
      "metadata": {
        "id": "nCBvvu0ee0UB"
      },
      "outputs": [],
      "source": [
        "from IPython.display import Audio\n",
        "Audio(audio_file)"
      ]
    },
    {
      "cell_type": "code",
      "execution_count": null,
      "metadata": {
        "id": "lXcDbJvEaAxv"
      },
      "outputs": [],
      "source": [
        "def translate(audio):\n",
        "\n",
        "    options = dict(beam_size=5, best_of=5)\n",
        "    translate_options = dict(task=\"translate\", **options)\n",
        "    result = model.transcribe(audio_file,**translate_options)\n",
        "    return result"
      ]
    },
    {
      "cell_type": "code",
      "execution_count": null,
      "metadata": {
        "id": "yAtyvRT7yc6y"
      },
      "outputs": [],
      "source": [
        "result = translate(audio_file)"
      ]
    },
    {
      "cell_type": "code",
      "execution_count": null,
      "metadata": {
        "id": "71MMiUrEfFEg"
      },
      "outputs": [],
      "source": [
        "print(result[\"text\"])"
      ]
    },
    {
      "cell_type": "code",
      "execution_count": null,
      "metadata": {
        "id": "eWTGYFgaz7aP"
      },
      "outputs": [],
      "source": [
        "from IPython.display import HTML\n",
        "from base64 import b64encode\n",
        "mp4 = open(input_video,'rb').read()\n",
        "data_url = \"data:video/mp4;base64,\" + b64encode(mp4).decode()\n",
        "HTML(\"\"\"\n",
        "<video width=400 controls>\n",
        "      <source src=\"%s\" type=\"video/mp4\">\n",
        "</video>\n",
        "\"\"\" % data_url)"
      ]
    },
    {
      "cell_type": "code",
      "execution_count": null,
      "metadata": {
        "id": "zn4VE-aPivJq"
      },
      "outputs": [],
      "source": [
        "from whisper.utils import write_vtt"
      ]
    },
    {
      "cell_type": "code",
      "execution_count": null,
      "metadata": {
        "id": "6_80U8BMjVgK"
      },
      "outputs": [],
      "source": [
        "output_dir = '/content/'\n",
        "audio_path = audio_file.split(\".\")[0]"
      ]
    },
    {
      "cell_type": "code",
      "execution_count": null,
      "metadata": {
        "id": "jI-qdIiUjLls"
      },
      "outputs": [],
      "source": [
        "with open(os.path.join(output_dir, audio_path + \".vtt\"), \"w\") as vtt:\n",
        "    write_vtt(result[\"segments\"], file=vtt)"
      ]
    },
    {
      "cell_type": "code",
      "execution_count": null,
      "metadata": {
        "id": "EeOhGIRBnU5O"
      },
      "outputs": [],
      "source": [
        "subtitle = audio_path + \".vtt\"\n",
        "output_video = audio_path + \"_subtitled.mp4\""
      ]
    },
    {
      "cell_type": "code",
      "execution_count": null,
      "metadata": {
        "id": "bVzQxt6xkTX-"
      },
      "outputs": [],
      "source": [
        "os.system(f\"ffmpeg -i {input_video} -vf subtitles={subtitle} {output_video}\")"
      ]
    },
    {
      "cell_type": "code",
      "execution_count": null,
      "metadata": {
        "collapsed": true,
        "id": "bhoqNIsHlJhn"
      },
      "outputs": [],
      "source": [
        "from IPython.display import HTML\n",
        "from base64 import b64encode\n",
        "mp4 = open(output_video,'rb').read()\n",
        "data_url = \"data:video/mp4;base64,\" + b64encode(mp4).decode()\n",
        "HTML(\"\"\"\n",
        "<video width=400 controls>\n",
        "      <source src=\"%s\" type=\"video/mp4\">\n",
        "</video>\n",
        "\"\"\" % data_url)"
      ]
    },
    {
      "cell_type": "code",
      "execution_count": null,
      "metadata": {
        "id": "R3SJUYKf3n-9"
      },
      "outputs": [],
      "source": [
        "import gradio as gr\n",
        "import os\n",
        "import sys\n",
        "import subprocess\n",
        "\n",
        "import whisper\n",
        "from whisper.utils import write_vtt\n",
        "\n",
        "model = whisper.load_model(\"medium\")\n",
        "\n",
        "def video2mp3(video_file, output_ext=\"mp3\"):\n",
        "    filename, ext = os.path.splitext(video_file)\n",
        "    subprocess.call([\"ffmpeg\", \"-y\", \"-i\", video_file, f\"{filename}.{output_ext}\"],\n",
        "                    stdout=subprocess.DEVNULL,\n",
        "                    stderr=subprocess.STDOUT)\n",
        "    return f\"{filename}.{output_ext}\"\n",
        "\n",
        "\n",
        "def translate(input_video):\n",
        "\n",
        "    audio_file = video2mp3(input_video)\n",
        "\n",
        "    options = dict(beam_size=5, best_of=5)\n",
        "    translate_options = dict(task=\"translate\", **options)\n",
        "    result = model.transcribe(audio_file,**translate_options)\n",
        "\n",
        "    output_dir = '/content/'\n",
        "    audio_path = audio_file.split(\".\")[0]\n",
        "\n",
        "    with open(os.path.join(output_dir, audio_path + \".vtt\"), \"w\") as vtt:\n",
        "      write_vtt(result[\"segments\"], file=vtt)\n",
        "\n",
        "    subtitle = audio_path + \".vtt\"\n",
        "    output_video = audio_path + \"_subtitled.mp4\"\n",
        "\n",
        "    os.system(f\"ffmpeg -i {input_video} -vf subtitles={subtitle} {output_video}\")\n",
        "\n",
        "    return output_video\n",
        "\n",
        "\n",
        "\n",
        "title = \"Add Text/Caption to your YouTube Shorts - MultiLingual\"\n",
        "\n",
        "block = gr.Blocks()\n",
        "\n",
        "with block:\n",
        "    with gr.Group():\n",
        "        with gr.Row():\n",
        "            inp_video = gr.Video(\n",
        "                label=\"Input Video\"\n",
        "            )\n",
        "            op_video = gr.Video()\n",
        "        with gr.Row():\n",
        "            btn = gr.Button(\"Generate Subtitle Video\")\n",
        "            btn.click(translate, inputs=[inp_video], outputs=[op_video])\n",
        "\n",
        "        gr.HTML('''\n",
        "        <div class=\"footer\">\n",
        "                    <p>Model by <a href=\"https://github.com/openai/whisper\" style=\"text-decoration: underline;\" target=\"_blank\">OpenAI</a> - Gradio App by <a href=\"https://twitter.com/1littlecoder\" style=\"text-decoration: underline;\" target=\"_blank\">1littlecoder</a>\n",
        "                    </p>\n",
        "        </div>\n",
        "        ''')\n",
        "\n",
        "block.launch(debug = True)"
      ]
    },
    {
      "cell_type": "code",
      "execution_count": null,
      "metadata": {
        "id": "q0QKLD0bEdsB"
      },
      "outputs": [],
      "source": []
    }
  ],
  "metadata": {
    "accelerator": "GPU",
    "colab": {
      "provenance": []
    },
    "kernelspec": {
      "display_name": "Python 3",
      "name": "python3"
    },
    "language_info": {
      "codemirror_mode": {
        "name": "ipython",
        "version": 3
      },
      "file_extension": ".py",
      "mimetype": "text/x-python",
      "name": "python",
      "nbconvert_exporter": "python",
      "pygments_lexer": "ipython3",
      "version": "3.12.5"
    }
  },
  "nbformat": 4,
  "nbformat_minor": 0
}
